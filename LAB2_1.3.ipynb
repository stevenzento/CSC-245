{
 "cells": [
  {
   "cell_type": "code",
   "execution_count": 1,
   "id": "64e35acd",
   "metadata": {},
   "outputs": [
    {
     "name": "stdout",
     "output_type": "stream",
     "text": [
      "Addition Result:\n",
      "0     3\n",
      "1     7\n",
      "2    11\n",
      "3    15\n",
      "4    19\n",
      "dtype: int64\n",
      "\n",
      "Subtraction Result:\n",
      "0    1\n",
      "1    1\n",
      "2    1\n",
      "3    1\n",
      "4    1\n",
      "dtype: int64\n",
      "\n",
      "Multiplication Result:\n",
      "0     2\n",
      "1    12\n",
      "2    30\n",
      "3    56\n",
      "4    90\n",
      "dtype: int64\n",
      "\n",
      "Division Result:\n",
      "0    2.000000\n",
      "1    1.333333\n",
      "2    1.200000\n",
      "3    1.142857\n",
      "4    1.111111\n",
      "dtype: float64\n"
     ]
    }
   ],
   "source": [
    "import pandas as pd\n",
    "\n",
    "# Define the sample series\n",
    "series1 = pd.Series([2, 4, 6, 8, 10])\n",
    "series2 = pd.Series([1, 3, 5, 7, 9])\n",
    "\n",
    "# Addition\n",
    "addition_result = series1 + series2\n",
    "\n",
    "# Subtraction\n",
    "subtraction_result = series1 - series2\n",
    "\n",
    "# Multiplication\n",
    "multiplication_result = series1 * series2\n",
    "\n",
    "# Division\n",
    "division_result = series1 / series2\n",
    "\n",
    "# Display the results\n",
    "print(\"Addition Result:\")\n",
    "print(addition_result)\n",
    "print(\"\\nSubtraction Result:\")\n",
    "print(subtraction_result)\n",
    "print(\"\\nMultiplication Result:\")\n",
    "print(multiplication_result)\n",
    "print(\"\\nDivision Result:\")\n",
    "print(division_result)\n"
   ]
  },
  {
   "cell_type": "code",
   "execution_count": null,
   "id": "fdf0c097",
   "metadata": {},
   "outputs": [],
   "source": []
  }
 ],
 "metadata": {
  "kernelspec": {
   "display_name": "Python 3 (ipykernel)",
   "language": "python",
   "name": "python3"
  },
  "language_info": {
   "codemirror_mode": {
    "name": "ipython",
    "version": 3
   },
   "file_extension": ".py",
   "mimetype": "text/x-python",
   "name": "python",
   "nbconvert_exporter": "python",
   "pygments_lexer": "ipython3",
   "version": "3.11.5"
  }
 },
 "nbformat": 4,
 "nbformat_minor": 5
}
