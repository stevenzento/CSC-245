{
 "cells": [
  {
   "cell_type": "code",
   "execution_count": 1,
   "id": "8035ab4f",
   "metadata": {},
   "outputs": [
    {
     "name": "stdout",
     "output_type": "stream",
     "text": [
      "0    100.00\n",
      "1    200.00\n",
      "2       NaN\n",
      "3    300.12\n",
      "4    400.00\n",
      "dtype: float64\n"
     ]
    }
   ],
   "source": [
    "import pandas as pd\n",
    "\n",
    "# Original Data Series\n",
    "original_series = pd.Series([100, 200, 'python', 300.12, 400])\n",
    "\n",
    "# Change the data type to numeric\n",
    "converted_series = pd.to_numeric(original_series, errors='coerce')\n",
    "\n",
    "# Display the converted series\n",
    "print(converted_series)\n"
   ]
  },
  {
   "cell_type": "code",
   "execution_count": null,
   "id": "35297e49",
   "metadata": {},
   "outputs": [],
   "source": []
  }
 ],
 "metadata": {
  "kernelspec": {
   "display_name": "Python 3 (ipykernel)",
   "language": "python",
   "name": "python3"
  },
  "language_info": {
   "codemirror_mode": {
    "name": "ipython",
    "version": 3
   },
   "file_extension": ".py",
   "mimetype": "text/x-python",
   "name": "python",
   "nbconvert_exporter": "python",
   "pygments_lexer": "ipython3",
   "version": "3.11.5"
  }
 },
 "nbformat": 4,
 "nbformat_minor": 5
}
