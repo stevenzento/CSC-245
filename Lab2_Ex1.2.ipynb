{
 "cells": [
  {
   "cell_type": "code",
   "execution_count": null,
   "id": "b69395b1",
   "metadata": {},
   "outputs": [],
   "source": [
    "import pandas as pd\n",
    "\n",
    "# Create a Pandas Series\n",
    "data = pd.Series([10, 20, 30, 40, 50])\n",
    "\n",
    "# Convert Pandas Series to Python list\n",
    "data_list = data.tolist()\n",
    "\n",
    "# Display the converted list\n",
    "print(\"Converted Python list:\", data_list)\n",
    "\n",
    "# Display the type of the converted list\n",
    "print(\"Type of converted Python list:\", type(data_list))\n"
   ]
  }
 ],
 "metadata": {
  "kernelspec": {
   "display_name": "Python 3 (ipykernel)",
   "language": "python",
   "name": "python3"
  },
  "language_info": {
   "codemirror_mode": {
    "name": "ipython",
    "version": 3
   },
   "file_extension": ".py",
   "mimetype": "text/x-python",
   "name": "python",
   "nbconvert_exporter": "python",
   "pygments_lexer": "ipython3",
   "version": "3.11.5"
  }
 },
 "nbformat": 4,
 "nbformat_minor": 5
}
